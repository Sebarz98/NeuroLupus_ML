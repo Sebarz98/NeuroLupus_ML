{
 "cells": [
  {
   "cell_type": "code",
   "execution_count": null,
   "metadata": {},
   "outputs": [
    {
     "name": "stdout",
     "output_type": "stream",
     "text": [
      "N° of patients: 27\n",
      "N° of columns: 969\n"
     ]
    }
   ],
   "source": [
    "# Load Dataset\n",
    "import pandas as pd \n",
    "\n",
    "file_path = \"/Users/Sebastiano/SLE/data/Clinical_MRI.xlsx\"\n",
    "df = pd.read_excel(file_path)\n",
    "\n",
    "print(\"N° of patients: {}\".format(len(df)))\n",
    "print(\"N° of columns: {}\".format(df.shape[1]))\n",
    "\n",
    "pd.set_option('display.max_columns', None)\n",
    "\n",
    "import os \n",
    "# Create the results/ directory if it doesn't exist\n",
    "if not os.path.exists('results'):\n",
    "    os.makedirs('results')\n",
    "\n",
    "# Extract feature matrix X and show 5 random samples\n",
    "df.head()"
   ]
  },
  {
   "attachments": {},
   "cell_type": "markdown",
   "metadata": {},
   "source": [
    "# Structure Investigation"
   ]
  },
  {
   "cell_type": "code",
   "execution_count": 33,
   "metadata": {},
   "outputs": [
    {
     "data": {
      "text/plain": [
       "(27, 969)"
      ]
     },
     "execution_count": 33,
     "metadata": {},
     "output_type": "execute_result"
    }
   ],
   "source": [
    "# Show size of the dataset\n",
    "df.shape"
   ]
  },
  {
   "cell_type": "code",
   "execution_count": 34,
   "metadata": {},
   "outputs": [
    {
     "data": {
      "text/plain": [
       "float64    931\n",
       "int64       30\n",
       "object       8\n",
       "dtype: int64"
      ]
     },
     "execution_count": 34,
     "metadata": {},
     "output_type": "execute_result"
    }
   ],
   "source": [
    "# Count how many times each data type is present in the dataset\n",
    "pd.value_counts(df.dtypes)"
   ]
  },
  {
   "attachments": {},
   "cell_type": "markdown",
   "metadata": {},
   "source": [
    "## Structure of non-numerical features"
   ]
  },
  {
   "cell_type": "code",
   "execution_count": null,
   "metadata": {},
   "outputs": [],
   "source": [
    "# Display non-numerical features\n",
    "df.select_dtypes(exclude=\"number\").head()"
   ]
  },
  {
   "cell_type": "code",
   "execution_count": null,
   "metadata": {},
   "outputs": [],
   "source": [
    "df.describe(exclude=\"number\")"
   ]
  },
  {
   "attachments": {},
   "cell_type": "markdown",
   "metadata": {},
   "source": [
    "## Structure of numerical features"
   ]
  },
  {
   "cell_type": "code",
   "execution_count": null,
   "metadata": {},
   "outputs": [],
   "source": [
    "# For each numerical feature compute number of unique entries\n",
    "unique_values = df.select_dtypes(include=\"number\").nunique().sort_values()\n",
    "\n",
    "# Plot information with y-axis in log-scale\n",
    "unique_values.plot.bar(logy=True, figsize=(55, 40), title=\"Unique values\");"
   ]
  },
  {
   "cell_type": "code",
   "execution_count": null,
   "metadata": {},
   "outputs": [],
   "source": [
    "df.iloc[:, :11].describe(include=\"number\")"
   ]
  },
  {
   "cell_type": "code",
   "execution_count": null,
   "metadata": {},
   "outputs": [],
   "source": [
    "df.iloc[:,11 :21].describe(include=\"number\")"
   ]
  },
  {
   "cell_type": "code",
   "execution_count": null,
   "metadata": {},
   "outputs": [],
   "source": [
    "df.iloc[:,21 :41].describe(include=\"number\")"
   ]
  },
  {
   "cell_type": "code",
   "execution_count": null,
   "metadata": {},
   "outputs": [],
   "source": [
    "df.iloc[:,41 :61].describe(include=\"number\")"
   ]
  },
  {
   "cell_type": "code",
   "execution_count": null,
   "metadata": {},
   "outputs": [],
   "source": [
    "# Describe\n",
    "\n",
    "df.iloc[:,6:35].groupby(['NP-SLE']).describe()"
   ]
  },
  {
   "attachments": {},
   "cell_type": "markdown",
   "metadata": {},
   "source": [
    "# Quality Investigation"
   ]
  },
  {
   "attachments": {},
   "cell_type": "markdown",
   "metadata": {},
   "source": [
    "## Duplicates"
   ]
  },
  {
   "cell_type": "code",
   "execution_count": 4,
   "metadata": {},
   "outputs": [
    {
     "name": "stdout",
     "output_type": "stream",
     "text": [
      "You seem to have 0 duplicates in your database.\n"
     ]
    }
   ],
   "source": [
    "# Check number of duplicates while ignoring the index feature\n",
    "n_duplicates = df.drop(labels=[\"Patient\"], axis=1).duplicated().sum()\n",
    "print(f\"You seem to have {n_duplicates} duplicates in your database.\")"
   ]
  },
  {
   "cell_type": "code",
   "execution_count": 5,
   "metadata": {},
   "outputs": [
    {
     "data": {
      "text/plain": [
       "(27, 969)"
      ]
     },
     "execution_count": 5,
     "metadata": {},
     "output_type": "execute_result"
    }
   ],
   "source": [
    "#  Extract column names of all features, except 'Accident_Index'\n",
    "columns_to_consider = df.drop(labels=[\"Patient\"], axis=1).columns\n",
    "\n",
    "# Drop duplicates based on 'columns_to_consider'\n",
    "df_X = df.drop_duplicates(subset=columns_to_consider)\n",
    "df_X.shape"
   ]
  },
  {
   "attachments": {},
   "cell_type": "markdown",
   "metadata": {},
   "source": [
    "## Missing Values"
   ]
  },
  {
   "cell_type": "code",
   "execution_count": null,
   "metadata": {},
   "outputs": [],
   "source": [
    "import matplotlib.pyplot as plt\n",
    "\n",
    "plt.figure(figsize=(10, 8))\n",
    "plt.imshow(df_X.isna(), aspect=\"auto\", interpolation=\"nearest\", cmap=\"gray\")\n",
    "plt.xlabel(\"Column Number\")\n",
    "plt.ylabel(\"Sample Number\");"
   ]
  },
  {
   "cell_type": "code",
   "execution_count": null,
   "metadata": {},
   "outputs": [],
   "source": [
    "# Calculate the percentage of missing values in each column\n",
    "missing_perc = (df_X.isnull().sum() / len(df_X)) * 100\n",
    "\n",
    "# Calculate the percentage of unique values in each column\n",
    "unique_perc = (df_X.nunique() / len(df_X)) * 100\n",
    "\n",
    "# Calculate the skewness of each column\n",
    "skewness = df_X.skew()\n",
    "\n",
    "# Print the results\n",
    "print('Column Noisiness:')\n",
    "print('-------------------')\n",
    "print('Missing values:')\n",
    "print(missing_perc)\n",
    "print('Unique values:')\n",
    "print(unique_perc)\n",
    "print('-------------------')\n",
    "print('Type of noise:')\n",
    "print('-------------------')\n",
    "print('Skewness:')\n",
    "print(skewness)"
   ]
  },
  {
   "attachments": {},
   "cell_type": "markdown",
   "metadata": {},
   "source": [
    "## Unwanted entries and recording errors"
   ]
  },
  {
   "cell_type": "code",
   "execution_count": null,
   "metadata": {},
   "outputs": [],
   "source": [
    "df_X.iloc[:, :60].plot(lw=0, marker=\".\", subplots=True, layout=(-1, 4), figsize=(15, 30), markersize=6);"
   ]
  },
  {
   "attachments": {},
   "cell_type": "markdown",
   "metadata": {},
   "source": [
    "## Non-numerical features"
   ]
  },
  {
   "cell_type": "code",
   "execution_count": null,
   "metadata": {},
   "outputs": [],
   "source": [
    "# Extract descriptive properties of non-numerical features\n",
    "df_X.describe(exclude=[\"number\", \"datetime\"])"
   ]
  },
  {
   "cell_type": "code",
   "execution_count": null,
   "metadata": {},
   "outputs": [],
   "source": [
    "# Create figure object with 3 subplots\n",
    "fig, axes = plt.subplots(ncols=1, nrows=7, figsize=(12, 16))\n",
    "\n",
    "# Identify non-numerical features\n",
    "df_non_numerical = df_X.select_dtypes(exclude=[\"number\", \"datetime\"])\n",
    "\n",
    "# Loop through features and put each subplot on a matplotlib axis object\n",
    "for col, ax in zip(df_non_numerical.columns, axes.ravel()):\n",
    "\n",
    "    # Selects one single feature and counts number of occurrences per unique value\n",
    "    df_non_numerical[col].value_counts().plot(\n",
    "\n",
    "        # Plots this information in a figure with log-scaled y-axis\n",
    "        logy=True, title=col, lw=0, marker=\".\", ax=ax)\n",
    "    \n",
    "plt.tight_layout();"
   ]
  },
  {
   "attachments": {},
   "cell_type": "markdown",
   "metadata": {},
   "source": [
    "# Content Investigation"
   ]
  },
  {
   "attachments": {},
   "cell_type": "markdown",
   "metadata": {},
   "source": [
    "## Feature Distribution"
   ]
  },
  {
   "cell_type": "code",
   "execution_count": null,
   "metadata": {},
   "outputs": [],
   "source": [
    "df_X_50 = df_X.iloc[:, :55] # Select the first 55 columns\n",
    "# Plots the histogram for each numerical feature in a separate subplot\n",
    "df_X_50.hist(bins=25, figsize=(25, 45), layout=(-1, 5), edgecolor=\"black\")\n",
    "# Save the figure to the results folder as a PNG file\n",
    "plt.savefig('results/feature_distribution.png', dpi=300, bbox_inches='tight')\n",
    "plt.show()  "
   ]
  },
  {
   "cell_type": "code",
   "execution_count": null,
   "metadata": {},
   "outputs": [],
   "source": [
    "# Collects for each feature the most frequent entry\n",
    "most_frequent_entry = df_X_50.mode()\n",
    "\n",
    "# Checks for each entry if it contains the most frequent entry\n",
    "df_freq_50 = df_X_50.eq(most_frequent_entry.values, axis=1)\n",
    "\n",
    "# Computes the mean of the 'is_most_frequent' occurrence\n",
    "df_freq_50 = df_freq_50.mean().sort_values(ascending=False)\n",
    "\n",
    "# Show the 5 top features with the highest ratio of singular value content\n",
    "display(df_freq_50.head())\n",
    "\n",
    "# Visualize the 'df_freq' table\n",
    "df_freq_50.plot.bar(figsize=(15, 4));"
   ]
  },
  {
   "cell_type": "code",
   "execution_count": null,
   "metadata": {},
   "outputs": [],
   "source": [
    "import seaborn as sns\n",
    "\n",
    "# Select the numeric columns\n",
    "numeric_cols = df.iloc[:, :61].select_dtypes(include=['float64', 'int64']).columns.tolist()\n",
    "\n",
    "# Plot the histograms of patients without Neuro event\n",
    "for col in numeric_cols:\n",
    "    elected_rows = df[df['NP-SLE'] == 0]\n",
    "    fig, ax = plt.subplots()\n",
    "    sns.histplot(data=df, x=col, kde=True, ax=ax)\n",
    "    ax.axvline(df[col].mean(), color='red', linestyle='--', label='Mean')\n",
    "    ax.axvline(df[col].median(), color='green', linestyle='--', label='Median')\n",
    "    ax.axvline(df[col].std(), color='orange', linestyle='--', label='Standard Deviation')\n",
    "    ax.set_title(f'Distribution of {col}')\n",
    "    ax.legend()\n",
    "    # Save the figure to the results folder as a PNG file\n",
    "    fig.savefig(f'results/Neuro_2/{col}_distribution.png', dpi=300, bbox_inches='tight')\n",
    "    plt.show()  #\n",
    "    plt.close(fig)"
   ]
  },
  {
   "cell_type": "code",
   "execution_count": null,
   "metadata": {},
   "outputs": [],
   "source": [
    "# Plot the histograms of patients with Neuro event\n",
    "for col in numeric_cols:\n",
    "    elected_rows = df[df['NP-SLE'] == 1]\n",
    "    fig, ax = plt.subplots()\n",
    "    sns.histplot(data=df, x=col, kde=True, ax=ax)\n",
    "    ax.axvline(df[col].mean(), color='red', linestyle='--', label='Mean')\n",
    "    ax.axvline(df[col].median(), color='green', linestyle='--', label='Median')\n",
    "    ax.axvline(df[col].std(), color='orange', linestyle='--', label='Standard Deviation')\n",
    "    ax.set_title(f'Distribution of {col}')\n",
    "    ax.legend()\n",
    "    # Save the figure to the results folder as a PNG file\n",
    "    fig.savefig(f'results/Neuro_2/{col}_distribution.png', dpi=300, bbox_inches='tight')\n",
    "    plt.show()  \n",
    "    plt.close(fig)"
   ]
  },
  {
   "cell_type": "code",
   "execution_count": null,
   "metadata": {},
   "outputs": [],
   "source": [
    "# Plot the boxplots with quartiles and median of patients without Neuro event\n",
    "for col in numeric_cols:\n",
    "    selected_rows = df[df['NP-SLE'] == 0]\n",
    "    fig, ax = plt.subplots()\n",
    "    sns.boxplot(data=selected_rows, x=col, showfliers=False)\n",
    "    ax.set_title(f'Distribution of {col}')\n",
    "    # Add median line\n",
    "    median = selected_rows[col].median()\n",
    "    ax.axvline(median, color='red', label=f'Median: {median:.2f}')\n",
    "    # Add quartile lines\n",
    "    q1, q3 = selected_rows[col].quantile(q=[0.25, 0.75])\n",
    "    ax.axvline(q1, color='green', label=f'Q1: {q1:.2f}')\n",
    "    ax.axvline(q3, color='orange', label=f'Q3: {q3:.2f}')\n",
    "    ax.legend()\n",
    "    # Save the figure to the results folder as a PNG file\n",
    "    fig.savefig(f'results/Neuro_2/{col}_distribution.png', dpi=300, bbox_inches='tight')\n",
    "    plt.show()  \n",
    "    plt.close(fig)"
   ]
  },
  {
   "cell_type": "code",
   "execution_count": null,
   "metadata": {},
   "outputs": [],
   "source": [
    "# Plot the boxplots with quartiles and median of patients without Neuro event\n",
    "for col in numeric_cols:\n",
    "    selected_rows = df[df['NP-SLE'] == 1]\n",
    "    fig, ax = plt.subplots()\n",
    "    sns.boxplot(data=selected_rows, x=col, showfliers=False)\n",
    "    ax.set_title(f'Distribution of {col}')\n",
    "    # Add median line\n",
    "    median = selected_rows[col].median()\n",
    "    ax.axvline(median, color='red', label=f'Median: {median:.2f}')\n",
    "    # Add quartile lines\n",
    "    q1, q3 = selected_rows[col].quantile(q=[0.25, 0.75])\n",
    "    ax.axvline(q1, color='green', label=f'Q1: {q1:.2f}')\n",
    "    ax.axvline(q3, color='orange', label=f'Q3: {q3:.2f}')\n",
    "    ax.legend()\n",
    "    # Save the figure to the results folder as a PNG file\n",
    "    fig.savefig(f'results/Neuro_2/{col}_distribution.png', dpi=300, bbox_inches='tight')\n",
    "    plt.show()  \n",
    "    plt.close(fig)"
   ]
  },
  {
   "cell_type": "code",
   "execution_count": null,
   "metadata": {},
   "outputs": [],
   "source": [
    "import numpy as np\n",
    "from scipy import stats\n",
    "\n",
    "#df = df.drop(['Patient','Date of Birth', 'Gender', 'Education', 'Age'], axis = 'columns')\n",
    "\n",
    "# Select a numeric column for demonstration\n",
    "numeric_col = 'Brain (WM+GM) volume cm3'\n",
    "\n",
    "# Generate the theoretical quantiles for a normal distribution\n",
    "normal_theoretical = np.random.normal(loc=np.mean(df[numeric_col]), scale=np.std(df[numeric_col]), size=len(df[numeric_col]))\n",
    "\n",
    "# Calculate the sample quantiles\n",
    "sample_quantiles = np.sort(df[numeric_col])\n",
    "\n",
    "# Create the QQ plot\n",
    "stats.probplot(df[numeric_col], dist='norm', plot=plt)\n",
    "\n",
    "# Show the plot\n",
    "plt.title('QQ Plot of {}'.format(numeric_col))\n",
    "plt.xlabel('Theoretical Quantiles')\n",
    "plt.ylabel('Sample Quantiles')\n",
    "# Save the figure to the results folder as a PNG file, before showing the plot\n",
    "plt.savefig('results/QQ_Abnormal_white.png', dpi=300, bbox_inches='tight')\n",
    "# Show the plot\n",
    "plt.show()"
   ]
  },
  {
   "cell_type": "code",
   "execution_count": null,
   "metadata": {},
   "outputs": [],
   "source": [
    "import statsmodels.api as sm\n",
    "\n",
    "# Select variables with over 10 unique values\n",
    "unique_counts = df.nunique()\n",
    "vars_to_plot = df.iloc[:, :51]\n",
    "vars_to_plot = unique_counts[unique_counts > 10].index.tolist()\n",
    "\n",
    "# Loop over variables and create QQ plots\n",
    "for var in vars_to_plot:\n",
    "    # Calculate mean and standard deviation of the variable\n",
    "    mean = df[var].mean()\n",
    "    std = df[var].std()\n",
    "    \n",
    "    # Generate theoretical quantiles based on the mean and standard deviation\n",
    "    theoretical_quantiles = stats.norm.ppf(np.linspace(0.01, 0.99, len(df[var])))\n",
    "    \n",
    "    # Create QQ plot\n",
    "    fig = sm.qqplot(df[var], line='s')\n",
    "    plt.plot(theoretical_quantiles, df[var].sort_values(), 'o', color='gray', alpha=0.5)\n",
    "    plt.title(f'QQ Plot for {var}')\n",
    "    plt.show();"
   ]
  },
  {
   "attachments": {},
   "cell_type": "markdown",
   "metadata": {},
   "source": [
    "## Feature Patterns"
   ]
  },
  {
   "cell_type": "code",
   "execution_count": null,
   "metadata": {},
   "outputs": [],
   "source": [
    "df_X[[\"Prednisone  (mg equivalent)\", \"C3 (mg/dl)\",\n",
    "      \"SLEDAI-2k (at the time of NP event)\", \"anti-dsDNA Titre  (insert NV here <7 )\"]].plot(\n",
    "    lw=0, marker=\".\", subplots=True, layout=(-1, 2), markersize=5, figsize=(15, 6));"
   ]
  },
  {
   "cell_type": "code",
   "execution_count": 79,
   "metadata": {},
   "outputs": [],
   "source": [
    "# Creates mask to identify numerical features with more or less than 5 unique features\n",
    "col_continuous = df_X.select_dtypes(include=\"number\").nunique() >= 5"
   ]
  },
  {
   "attachments": {},
   "cell_type": "markdown",
   "metadata": {},
   "source": [
    "## Continuous Feature"
   ]
  },
  {
   "cell_type": "code",
   "execution_count": 80,
   "metadata": {},
   "outputs": [
    {
     "data": {
      "text/plain": [
       "(27, 936)"
      ]
     },
     "execution_count": 80,
     "metadata": {},
     "output_type": "execute_result"
    }
   ],
   "source": [
    "# Create a new dataframe which only contains the continuous features\n",
    "df_continuous = df_X[col_continuous[col_continuous].index]\n",
    "df_continuous.shape"
   ]
  },
  {
   "cell_type": "code",
   "execution_count": null,
   "metadata": {},
   "outputs": [],
   "source": [
    "sns.set(font_scale=2)\n",
    "sns.pairplot(df_continuous.iloc[:,:10],height=5, plot_kws={\"s\": 50, \"alpha\": 1});"
   ]
  },
  {
   "cell_type": "code",
   "execution_count": null,
   "metadata": {},
   "outputs": [],
   "source": [
    "sns.set(font_scale=2)\n",
    "sns.pairplot(df_continuous.iloc[:,10:21], height=5, plot_kws={\"s\": 50, \"alpha\": 1});"
   ]
  },
  {
   "cell_type": "code",
   "execution_count": null,
   "metadata": {
    "scrolled": true
   },
   "outputs": [],
   "source": [
    "sns.pairplot(\n",
    "    df_X, plot_kws={\"s\": 10, \"alpha\": 1}, hue=\"NP-SLE\", palette=sns.color_palette('bright', df_X[\"NP-SLE\"].unique().shape[0]),\n",
    "    x_vars=[\"Prednisone  (mg equivalent)\", \"anti-dsDNA Titre  (insert NV here <7 )\", \"C3 (mgdl)\"],\n",
    "    y_vars=\"SLEDAI-2k (at the time of NP event)\");\n",
    "# Save the figure to the results folder as a PNG file\n",
    "plt.savefig('results/pair_sledai_prednisnone_dsDNa_c3.png', dpi=300, bbox_inches='tight')"
   ]
  },
  {
   "attachments": {},
   "cell_type": "markdown",
   "metadata": {},
   "source": [
    "## Discrete and Ordinal Features"
   ]
  },
  {
   "cell_type": "code",
   "execution_count": 81,
   "metadata": {},
   "outputs": [
    {
     "data": {
      "text/plain": [
       "(27, 25)"
      ]
     },
     "execution_count": 81,
     "metadata": {},
     "output_type": "execute_result"
    }
   ],
   "source": [
    "# Create a new dataframe which doesn't contain the numerical continuous features\n",
    "df_discrete = df_X[col_continuous[~col_continuous].index]\n",
    "df_discrete.shape"
   ]
  },
  {
   "cell_type": "code",
   "execution_count": null,
   "metadata": {},
   "outputs": [],
   "source": [
    "import numpy as np\n",
    "\n",
    "# Establish number of columns and rows needed to plot all features\n",
    "n_cols = 5\n",
    "n_elements = len(df_discrete.columns)\n",
    "n_rows = np.ceil(n_elements / n_cols).astype(\"int\")\n",
    "\n",
    "# Specify y_value to spread data (ideally a continuous feature)\n",
    "y_value = df_X[\"Disease duration (months)\"]\n",
    "\n",
    "# Create figure object with as many rows and columns as needed\n",
    "fig, axes = plt.subplots(ncols=n_cols, nrows=n_rows, figsize=(15, n_rows * 2.5))\n",
    "\n",
    "# Loop through features and put each subplot on a matplotlib axis object\n",
    "for col, ax in zip(df_discrete.columns, axes.ravel()):\n",
    "    sns.stripplot(data=df_X, x=col, y=y_value, ax=ax, palette=\"tab10\", size=10, alpha=0.5)\n",
    "plt.tight_layout();\n",
    "# Save the figure to the results folder as a PNG file\n",
    "plt.savefig('results/stripplot_disease_dur_vs_continuous.png', dpi=300, bbox_inches='tight')"
   ]
  },
  {
   "cell_type": "code",
   "execution_count": null,
   "metadata": {},
   "outputs": [],
   "source": [
    "# Specify features of interest\n",
    "selected_features = [\"anti-dsDNA Titre  (0=absent; 1=present) )\", \"aPL syndrome\",\n",
    "                     \"AnAb \", \"Anti-Rib-P\",\n",
    "                     \"NP-SLE\", \"Anti-DWEYS\"]\n",
    "\n",
    "# Create a figure with 3 x 2 subplots\n",
    "fig, axes = plt.subplots(ncols=3, nrows=2, figsize=(16, 8))\n",
    "\n",
    "# Loop through these features and plot entries from each feature against `Disease_duration`\n",
    "for col, ax in zip(selected_features, axes.ravel()):\n",
    "    sns.stripplot(data=df_X, x=col, y=df_X[\"Disease duration (months)\"], ax=ax,\n",
    "                  palette=\"tab10\", size=10, alpha=0.5)\n",
    "plt.tight_layout();\n",
    "# Save the figure to the results folder as a PNG file\n",
    "plt.savefig('results/stripplot_disease_dur_vs_features.png', dpi=300, bbox_inches='tight')"
   ]
  },
  {
   "cell_type": "code",
   "execution_count": null,
   "metadata": {},
   "outputs": [],
   "source": [
    "# Create a figure with 3 x 2 subplots\n",
    "fig, axes = plt.subplots(ncols=3, nrows=2, figsize=(16, 8))\n",
    "new_selected_features = [\"anti-dsDNA Titre  (0=absent; 1=present) )\", \"aPL syndrome\",\n",
    "                     \"AnAb \", \"Anti-Rib-P\",\n",
    "                     \"SLICC-DI (at the time of NP event)\", \"Anti-DWEYS\"]\n",
    "# Loop through these features and plot entries from each feature against `Disease_Duration`\n",
    "for idx, col in enumerate(new_selected_features):\n",
    "    ax = axes[idx // 3, idx % 3]\n",
    "    sns.violinplot(data=df_X, x=col, y=df_X[\"Disease duration (months)\"], palette=\"Set2\", split=True, hue=\"NP-SLE\", ax=ax)\n",
    "plt.tight_layout()\n",
    "# Save the figure to the results folder as a PNG file\n",
    "plt.savefig('results/violin_disease_against_features.png', dpi=300, bbox_inches='tight')"
   ]
  },
  {
   "attachments": {},
   "cell_type": "markdown",
   "metadata": {},
   "source": [
    "## Feature Relationships"
   ]
  },
  {
   "cell_type": "code",
   "execution_count": 85,
   "metadata": {},
   "outputs": [
    {
     "name": "stderr",
     "output_type": "stream",
     "text": [
      "/var/folders/gv/8pp24fhj55x0_14187vq2lkh0000gp/T/ipykernel_2643/1279958852.py:2: FutureWarning: The default value of numeric_only in DataFrame.corr is deprecated. In a future version, it will default to False. Select only valid columns or specify the value of numeric_only to silence this warning.\n",
      "  df_corr = df_X.corr(method=\"pearson\")\n"
     ]
    }
   ],
   "source": [
    "# Computes feature correlation\n",
    "df_corr = df_X.corr(method=\"pearson\")"
   ]
  },
  {
   "cell_type": "code",
   "execution_count": null,
   "metadata": {},
   "outputs": [],
   "source": [
    "# Create labels for the correlation matrix\n",
    "labels = np.where(np.abs(df_corr)>0.75, \"S\",\n",
    "                  np.where(np.abs(df_corr)>0.5, \"M\",\n",
    "                           np.where(np.abs(df_corr)>0.25, \"W\", \"\")))\n",
    "\n",
    "# Plot correlation matrix\n",
    "plt.figure(figsize=(15, 15))\n",
    "sns.heatmap(df_corr, mask=np.eye(len(df_corr)), square=True,\n",
    "            center=0, annot=labels, fmt='', linewidths=.5,\n",
    "            cmap=\"vlag\", cbar_kws={\"shrink\": 0.8})\n",
    "# Save the figure to the results folder as a PNG file\n",
    "plt.savefig('results/correlation_matrix.png', dpi=300, bbox_inches='tight')"
   ]
  },
  {
   "cell_type": "code",
   "execution_count": null,
   "metadata": {},
   "outputs": [],
   "source": [
    "# Sort by correlation with target column\n",
    "target_column = 'NP-SLE'\n",
    "sorted_corr = df_corr[target_column].sort_values()\n",
    "\n",
    "# Plot sorted correlation matrix\n",
    "sns.heatmap(df_corr.loc[sorted_corr.index, sorted_corr.index], cmap=\"YlGnBu\")\n",
    "# Save the figure to the results folder as a PNG file\n",
    "plt.savefig('results/correlation_target_event.png', dpi=300, bbox_inches='tight')"
   ]
  },
  {
   "cell_type": "code",
   "execution_count": null,
   "metadata": {},
   "outputs": [],
   "source": [
    "#  Creates a mask to remove the diagonal and the upper triangle.\n",
    "lower_triangle_mask = np.tril(np.ones(df_corr.shape), k=-1).astype(\"bool\")\n",
    "\n",
    "#  Stack all correlations, after applying the mask\n",
    "df_corr_stacked = df_corr.where(lower_triangle_mask).stack().sort_values()\n",
    "\n",
    "#  Showing the lowest and highest correlations in the correlation matrix\n",
    "display(df_corr_stacked)"
   ]
  },
  {
   "cell_type": "code",
   "execution_count": null,
   "metadata": {},
   "outputs": [],
   "source": [
    "# Select the row of the correlation matrix corresponding to 'result'\n",
    "pearson_corr = df_corr.loc['NP-SLE',:]\n",
    "\n",
    "# Sort the correlations in descending order\n",
    "pearson_corr = pearson_corr.sort_values(ascending=False)\n",
    "\n",
    "# Select the top 10 correlated variables\n",
    "top_10_corr = pearson_corr.iloc[1:11]\n",
    "\n",
    "# Plot the top 10 correlations using a barplot\n",
    "sns.set_style(\"whitegrid\")\n",
    "plt.figure(figsize=(30,10))\n",
    "ax = sns.barplot(x=top_10_corr.index, y=top_10_corr.values)\n",
    "plt.title('Top 10 MRI & Clinical variables correlated with np event')\n",
    "plt.xlabel('MRI & Clinical variables')\n",
    "plt.ylabel('Pearson correlation coefficient')\n",
    "# Save the figure to the results folder as a PNG file\n",
    "plt.savefig('results/10_correlated_features.png', dpi=300, bbox_inches='tight')\n",
    "plt.show()"
   ]
  },
  {
   "cell_type": "code",
   "execution_count": null,
   "metadata": {},
   "outputs": [],
   "source": []
  }
 ],
 "metadata": {
  "kernelspec": {
   "display_name": "Python 3 (ipykernel)",
   "language": "python",
   "name": "python3"
  },
  "language_info": {
   "codemirror_mode": {
    "name": "ipython",
    "version": 3
   },
   "file_extension": ".py",
   "mimetype": "text/x-python",
   "name": "python",
   "nbconvert_exporter": "python",
   "pygments_lexer": "ipython3",
   "version": "3.10.10"
  }
 },
 "nbformat": 4,
 "nbformat_minor": 2
}
